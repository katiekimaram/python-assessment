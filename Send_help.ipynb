{
 "cells": [
  {
   "cell_type": "markdown",
   "id": "3f9513e3-5bbe-42cd-bc20-0ec7dd19116d",
   "metadata": {},
   "source": [
    "# Gorilla Data Engineer Assessment\n",
    "\n",
    "Use **pandas** to calculate a transportation distribution charge for four gas meters in\n",
    "the United Kingdom. While solving this exercise, focus on efficiency - i.e., use vectorised operations and avoid loops!\n",
    "> Transportation distribution charges are levied by gas distribution companies for the use of their\n",
    "lower pressure pipelines; they cover the cost of physically transporting the gas through the\n",
    "pipeline. This rate is determined depending on a meter's exit zone (gas network region) and its\n",
    "estimated annual quantity (AQ); and it changes over time.\n",
    "\n",
    "* The daily charge is calculated by finding the correct rate for each meter and day in the\n",
    "forecast and multiplying this rate (in p/kWh) with the day's forecast (in kWh).\n",
    "* Calculate the total cost per meter by summing its daily charges for the full forecast\n",
    "period and converting to Pounds (1p = 0.01£).\n",
    "* Calculate the total consumption per meter by summing its daily consumption\n",
    "forecast for the full period."
   ]
  },
  {
   "cell_type": "code",
   "execution_count": 5,
   "id": "4dfb9cfe-6356-485c-a42c-bdbc5696a7e9",
   "metadata": {},
   "outputs": [],
   "source": [
    "# import sys\n",
    "# print(sys.executable) \n",
    "\n",
    "import pandas as pd"
   ]
  },
  {
   "cell_type": "code",
   "execution_count": 6,
   "id": "49e14036-582d-4fe5-a785-c8fe0b1dc510",
   "metadata": {},
   "outputs": [
    {
     "name": "stdout",
     "output_type": "stream",
     "text": [
      "0    310.0\n",
      "1    400.0\n",
      "2    444.0\n",
      "3    228.0\n",
      "4    165.0\n",
      "dtype: float64\n"
     ]
    }
   ],
   "source": [
    "# Daily Charge Calculation\n",
    "\"\"\"\n",
    "I: Rate, Forecast\n",
    "    Rate (R)= p/kWh (pence per kWh) / panda series (dict)\n",
    "    Forecast (F) = consumption in kWh / panda series (dict)\n",
    "O: Cost of consumption per day (in pence) / panda series (dict)\n",
    "C: Rate and forecast should be non-negative values (Absolute)\n",
    "E: \n",
    "    Zero values would equal zero daily charge\n",
    "    High values or floating point precision may result in overflow or loss in precision\n",
    "    Non-numeric inputs should result in error\n",
    "    Negative values should be flagged as invalid and result in error.\n",
    "\"\"\"\n",
    "def daily_charge(r, f):\n",
    "    # Check edge cases\n",
    "    # Non-numeric values\n",
    "    if not isinstance(r, pd.Series) or not isinstance(f, pd.Series):\n",
    "        raise TypeError(\"Rate and forecast must be a series.\")\n",
    "    # Non-negative values\n",
    "    if (r < 0).any(): \n",
    "        raise ValueError(\"Rate must be non-negative.\")\n",
    "    if (f < 0).any(): \n",
    "        raise ValueError(\"Forecast must be non-negative.\")\n",
    "\n",
    "    # Calculate\n",
    "    return r * f\n",
    "\n",
    "# Tests\n",
    "try:\n",
    "    r = pd.Series([15.5, 16.0, 14.8, 15.2, 16.5])\n",
    "    f = pd.Series([20.0, 25.0, 30.0, 15.0, 10.0])\n",
    "    print(daily_charge(r,f))\n",
    "except (ValueError, TypeError) as error:\n",
    "    print(error)"
   ]
  },
  {
   "cell_type": "code",
   "execution_count": 7,
   "id": "96d758d0-f9dd-461f-9583-e32450abb3e8",
   "metadata": {},
   "outputs": [
    {
     "name": "stdout",
     "output_type": "stream",
     "text": [
      "15.47\n"
     ]
    }
   ],
   "source": [
    "# Total Cost per Meter Calculation\n",
    "\"\"\"\n",
    "I: rate, forecast\n",
    "O: total cost in pounds / numeric - float or int\n",
    "\"\"\"\n",
    "\n",
    "def meter_cost(r,f):\n",
    "    daily_charges = daily_charge(r,f) # calculate the daily charges\n",
    "    total = daily_charges.sum() # get the sum total of the daily charges - in pence\n",
    "    return total * 0.01 # convert to pouns\n",
    "\n",
    "# Tests\n",
    "try:\n",
    "    r = pd.Series([15.5, 16.0, 14.8, 15.2, 16.5])\n",
    "    f = pd.Series([20.0, 25.0, 30.0, 15.0, 10.0])\n",
    "    print(meter_cost(r,f))\n",
    "except (TypeError,ValueError) as e:\n",
    "    print(e)"
   ]
  },
  {
   "cell_type": "code",
   "execution_count": 9,
   "id": "928441c4-85f8-47b5-aba9-8652ae291e63",
   "metadata": {},
   "outputs": [
    {
     "name": "stdout",
     "output_type": "stream",
     "text": [
      "100.0\n"
     ]
    }
   ],
   "source": [
    "# Total Consumption per Meter Calculation\n",
    "\"\"\"\n",
    "I: Forecast / Numpy dict\n",
    "O: Comsumption in kWh / Numeric\n",
    "C: Must be non-neg.\n",
    "E: Needs to add own edge cases since this does not run through daily charges.\n",
    "\"\"\"\n",
    "\n",
    "def meter_consumption(f):\n",
    "    # Non-numeric values\n",
    "    if not isinstance(f, pd.Series):\n",
    "        raise TypeError(\"Forecast must be an list of numeric value.\")\n",
    "    # Non-negative values\n",
    "    if (f < 0).any(): \n",
    "        raise ValueError(\"Forecast must be non-negative.\")\n",
    "    \n",
    "    # forecast - total consumption \n",
    "    return f.sum()\n",
    "\n",
    "# Tests\n",
    "try:\n",
    "    f = pd.Series([20.0,25.0,30.0,15.0,10.0])\n",
    "    print(meter_consumption(f))\n",
    "except (TypeError,ValueError) as e:\n",
    "    print(e)"
   ]
  },
  {
   "cell_type": "code",
   "execution_count": 137,
   "id": "eb1c9bc8-2dff-48d0-b3d5-dfc62c7a972e",
   "metadata": {},
   "outputs": [
    {
     "name": "stdout",
     "output_type": "stream",
     "text": [
      " Meter ID  Total Estimated Consumption (kWh)  Total Cost (£)\n",
      " 14676236                         597.980140        2.178067\n",
      " 34509937                        1513.258628        4.872876\n",
      " 50264822                        5600.300184       17.815132\n",
      " 88357331                        8863.566962       28.073736\n"
     ]
    }
   ],
   "source": [
    "# retrieve csv files\n",
    "df_rate = pd.read_csv(\"Gorilla Python Assessment/data/rate.csv\")\n",
    "df_forecast = pd.read_csv(\"Gorilla Python Assessment/data/forecast.csv\")\n",
    "df_meter = pd.read_csv(\"Gorilla Python Assessment/data/meter.csv\")\n",
    "\n",
    "# I still need to consider edge cases and constraints\n",
    "\n",
    "# combine all csv files\n",
    "df_combined = pd.merge(df_meter, df_rate, on='exit_zone')\n",
    "df_data = pd.merge(df_combined, df_forecast, on=['meter_id','date'], how='inner')\n",
    "\n",
    "# calculate the daily charge\n",
    "# I realize this negates all the work I did before :(\n",
    "df_data['daily_charge'] = df_data['rate_p_per_kwh'] * df_data['kwh'] \n",
    "\n",
    "# calculate the total cost, forecast\n",
    "cost_total = df_data.groupby('meter_id')['daily_charge'].sum() * 0.01\n",
    "forecast_total = df_data.groupby('meter_id')['kwh'].sum()\n",
    "# create one table, need to reset the index as its registering meter_id as the index due to prev concat\n",
    "df_total = pd.merge(forecast_total, cost_total, on='meter_id').reset_index()\n",
    "\n",
    "# making it pretty now\n",
    "columns = {\n",
    "    'meter_id': 'Meter ID', \n",
    "    'kwh': 'Total Estimated Consumption (kWh)', \n",
    "    'daily_charge': 'Total Cost (£)'\n",
    "    }\n",
    "df_result = df_total.rename(columns=columns).to_string(index=False)\n",
    "\n",
    "# see the magic\n",
    "print(df_result)"
   ]
  },
  {
   "cell_type": "markdown",
   "id": "9ca564f7-f916-46c8-a90d-a2d453116bb9",
   "metadata": {},
   "source": [
    "Write a function that generates a list of random meters of any size. Examples of valid exit zones can be found in the rate table. You may randomly generate the annual quantity."
   ]
  },
  {
   "cell_type": "code",
   "execution_count": 143,
   "id": "eb3017d8-b4ff-4df6-986b-2da9af5a97ed",
   "metadata": {},
   "outputs": [
    {
     "name": "stdout",
     "output_type": "stream",
     "text": [
      "['EA1' 'SO1' 'NT1' 'SE2']\n",
      "   meter_id exit_zone  annual_quantity\n",
      "0   3558586       SO1      3793.080109\n",
      "1   3307472       SE2      3155.408249\n",
      "2   3741315       SE2      3138.070427\n",
      "3   8021740       EA1      2398.092311\n",
      "4   7213335       SO1      3121.731770\n",
      "5   2293107       EA1      3485.766943\n",
      "6   5419539       NT1       851.667620\n",
      "7    967700       SE2      2424.881470\n",
      "8   2213441       NT1      1188.789002\n",
      "9   2592691       SE2      3698.174543\n"
     ]
    }
   ],
   "source": [
    "import numpy as np\n",
    "\n",
    "# Generate list of random meters of any size\n",
    "\"\"\"\n",
    "I - An integer specifying the number of random meters to generate.\n",
    "O - A dict containing meter, exit zone, aq \n",
    "C - input is non-negative, valid exit zones, aq is adjusted based on specific requirements.\n",
    "E - zero or negative, extreme values, valid exit zones, range, duplicate meter_ids\n",
    "\"\"\"\n",
    "\n",
    "def gen_meter_list(m, ez, min=0, max=5000):\n",
    "    id = np.random.randint(1,1e7, size=m) # generate random meters\n",
    "    exit_zones = np.random.choice(ez, size=m) # select random exit zones\n",
    "    aq = np.random.uniform(min,max, size=m)\n",
    "    \n",
    "    df_meters = pd.DataFrame({\n",
    "        'meter_id': id,\n",
    "        \"exit_zone\": exit_zones,\n",
    "        'annual_quantity': aq\n",
    "    })\n",
    "    return df_meters\n",
    "\n",
    "ez = df_data['exit_zone'].unique()\n",
    "\n",
    "print(gen_meter_list(10,ez))"
   ]
  },
  {
   "cell_type": "markdown",
   "id": "5fa76cdf-d02b-4888-873a-4c6871bc9127",
   "metadata": {},
   "source": [
    "Write a function that generates mock consumption data given a list of meters and a start date and duration (number of days in the forecast). The data may be completely random and it doesn't have to match with the meters' annual quantities either."
   ]
  },
  {
   "cell_type": "code",
   "execution_count": null,
   "id": "7b1c6ce9-5071-47f9-ba5e-435243f878de",
   "metadata": {},
   "outputs": [],
   "source": [
    "# Generate mock consumption data\n",
    "\"\"\"\n",
    "I - List of meters, start date, duration (# days in forecast)\n",
    "O -\n",
    "C - \n",
    "E - \n",
    "\"\"\"\n",
    "def gen_consuption_list(meter_list, start_date, duration):\n",
    "    \n",
    "    "
   ]
  },
  {
   "cell_type": "markdown",
   "id": "cd14a6e6-3b7d-4950-a9a5-617421cd9278",
   "metadata": {},
   "source": [
    "Write a function that takes as an input a meter list and a consumption forecast table and that calculates the transportation cost table (i.e., best take your logic from task 1 and wrap it in a function). Benchmark this function using meter lists of different sizes and consumption forecasts for periods of different lengths. How does the function scale for larger sets of data? date exit_zone aq_min_kwh aq_max_kwh rate_p_per_kwh 2020-04-01 EA1 0 73200 0.2652 2020-10-01 EA1 0 73200 0.2970 2021-04-01 EA1 0 73200 0.3327 2021-10-01 EA1 0 73200 0.3726 2022-04-01 EA1 0 73200 0.4173 2022-10-01 EA1 0 73200 0.4674 2023-04-01 EA1 0 73200 0.5235 2023-10-01 EA1 0 73200 0.5863 2024-04-01 EA1 0 73200 0.6566"
   ]
  },
  {
   "cell_type": "code",
   "execution_count": null,
   "id": "03a715d5-76af-4a45-af39-b4f23768e507",
   "metadata": {},
   "outputs": [],
   "source": []
  },
  {
   "cell_type": "markdown",
   "id": "d996ea27-d1f4-42dd-8861-4f83ee96a8f2",
   "metadata": {},
   "source": [
    "What are your observations after benchmarking? Are there any steps in the cost calculation that can be improved? How would you go about improving the performance of this calculation?"
   ]
  },
  {
   "cell_type": "code",
   "execution_count": null,
   "id": "7cc6ece5-8e4b-4d34-a134-1f5f0187d76a",
   "metadata": {},
   "outputs": [],
   "source": []
  }
 ],
 "metadata": {
  "kernelspec": {
   "display_name": "Python 3 (ipykernel)",
   "language": "python",
   "name": "python3"
  },
  "language_info": {
   "codemirror_mode": {
    "name": "ipython",
    "version": 3
   },
   "file_extension": ".py",
   "mimetype": "text/x-python",
   "name": "python",
   "nbconvert_exporter": "python",
   "pygments_lexer": "ipython3",
   "version": "3.12.4"
  }
 },
 "nbformat": 4,
 "nbformat_minor": 5
}
