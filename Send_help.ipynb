{
 "cells": [
  {
   "cell_type": "markdown",
   "id": "3f9513e3-5bbe-42cd-bc20-0ec7dd19116d",
   "metadata": {},
   "source": [
    "# Gorilla Data Engineer Assessment\n",
    "\n",
    "Use **pandas** to calculate a transportation distribution charge for four gas meters in\n",
    "the United Kingdom. While solving this exercise, focus on efficiency - i.e., use vectorised operations and avoid loops!\n",
    "> Transportation distribution charges are levied by gas distribution companies for the use of their\n",
    "lower pressure pipelines; they cover the cost of physically transporting the gas through the\n",
    "pipeline. This rate is determined depending on a meter's exit zone (gas network region) and its\n",
    "estimated annual quantity (AQ); and it changes over time.\n",
    "\n",
    "* The daily charge is calculated by finding the correct rate for each meter and day in the\n",
    "forecast and multiplying this rate (in p/kWh) with the day's forecast (in kWh).\n",
    "* Calculate the total cost per meter by summing its daily charges for the full forecast\n",
    "period and converting to Pounds (1p = 0.01£).\n",
    "* Calculate the total consumption per meter by summing its daily consumption\n",
    "forecast for the full period."
   ]
  },
  {
   "cell_type": "code",
   "execution_count": 2,
   "id": "4dfb9cfe-6356-485c-a42c-bdbc5696a7e9",
   "metadata": {},
   "outputs": [],
   "source": [
    "# import sys\n",
    "# print(sys.executable) \n",
    "\n",
    "import pandas as pd"
   ]
  },
  {
   "cell_type": "code",
   "execution_count": 3,
   "id": "49e14036-582d-4fe5-a785-c8fe0b1dc510",
   "metadata": {},
   "outputs": [
    {
     "name": "stdout",
     "output_type": "stream",
     "text": [
      "0    310.0\n",
      "1    400.0\n",
      "2    444.0\n",
      "3    228.0\n",
      "4    165.0\n",
      "dtype: float64\n"
     ]
    }
   ],
   "source": [
    "# Daily Charge Calculation\n",
    "\"\"\"\n",
    "I: Rate, Forecast\n",
    "    Rate (R)= p/kWh (pence per kWh) / panda series (dict)\n",
    "    Forecast (F) = consumption in kWh / panda series (dict)\n",
    "O: Cost of consumption per day (in pence) / panda series (dict)\n",
    "C: Rate and forecast should be non-negative values (Absolute)\n",
    "E: \n",
    "    Zero values would equal zero daily charge\n",
    "    High values or floating point precision may result in overflow or loss in precision\n",
    "    Non-numeric inputs should result in error\n",
    "    Negative values should be flagged as invalid and result in error.\n",
    "\"\"\"\n",
    "def daily_charge(r, f):\n",
    "    # Check edge cases\n",
    "    # Non-numeric values\n",
    "    if not isinstance(r, pd.Series) or not isinstance(f, pd.Series):\n",
    "        raise TypeError(\"Rate and forecast must be a series.\")\n",
    "    # Non-negative values\n",
    "    if (r < 0).any(): \n",
    "        raise ValueError(\"Rate must be non-negative.\")\n",
    "    if (f < 0).any(): \n",
    "        raise ValueError(\"Forecast must be non-negative.\")\n",
    "\n",
    "    # Calculate\n",
    "    return r * f\n",
    "\n",
    "# Tests\n",
    "try:\n",
    "    r = pd.Series([15.5, 16.0, 14.8, 15.2, 16.5])\n",
    "    f = pd.Series([20.0, 25.0, 30.0, 15.0, 10.0])\n",
    "    print(daily_charge(r,f))\n",
    "except (ValueError, TypeError) as error:\n",
    "    print(error)"
   ]
  },
  {
   "cell_type": "code",
   "execution_count": 4,
   "id": "96d758d0-f9dd-461f-9583-e32450abb3e8",
   "metadata": {},
   "outputs": [
    {
     "name": "stdout",
     "output_type": "stream",
     "text": [
      "15.47\n"
     ]
    }
   ],
   "source": [
    "# Total Cost per Meter Calculation\n",
    "\"\"\"\n",
    "I: rate, forecast\n",
    "O: total cost in pounds / numeric - float or int\n",
    "\"\"\"\n",
    "\n",
    "def meter_cost(r,f):\n",
    "    daily_charges = daily_charge(r,f) # calculate the daily charges\n",
    "    total = daily_charges.sum() # get the sum total of the daily charges - in pence\n",
    "    return total * 0.01 # convert to pouns\n",
    "\n",
    "# Tests\n",
    "try:\n",
    "    r = pd.Series([15.5, 16.0, 14.8, 15.2, 16.5])\n",
    "    f = pd.Series([20.0, 25.0, 30.0, 15.0, 10.0])\n",
    "    print(meter_cost(r,f))\n",
    "except (TypeError,ValueError) as e:\n",
    "    print(e)"
   ]
  },
  {
   "cell_type": "code",
   "execution_count": 5,
   "id": "928441c4-85f8-47b5-aba9-8652ae291e63",
   "metadata": {},
   "outputs": [
    {
     "name": "stdout",
     "output_type": "stream",
     "text": [
      "100.0\n"
     ]
    }
   ],
   "source": [
    "# Total Consumption per Meter Calculation\n",
    "\"\"\"\n",
    "I: Forecast / Numpy dict\n",
    "O: Comsumption in kWh / Numeric\n",
    "C: Must be non-neg.\n",
    "E: Needs to add own edge cases since this does not run through daily charges.\n",
    "\"\"\"\n",
    "\n",
    "def meter_consumption(f):\n",
    "    # Non-numeric values\n",
    "    if not isinstance(f, pd.Series):\n",
    "        raise TypeError(\"Forecast must be an list of numeric value.\")\n",
    "    # Non-negative values\n",
    "    if (f < 0).any(): \n",
    "        raise ValueError(\"Forecast must be non-negative.\")\n",
    "    \n",
    "    # forecast - total consumption \n",
    "    return f.sum()\n",
    "\n",
    "# Tests\n",
    "try:\n",
    "    f = pd.Series([20.0,25.0,30.0,15.0,10.0])\n",
    "    print(meter_consumption(f))\n",
    "except (TypeError,ValueError) as e:\n",
    "    print(e)"
   ]
  },
  {
   "cell_type": "code",
   "execution_count": 19,
   "id": "eb1c9bc8-2dff-48d0-b3d5-dfc62c7a972e",
   "metadata": {},
   "outputs": [],
   "source": [
    "# retrieve csv files\n",
    "df_rate = pd.read_csv(\"./data/rate.csv\")\n",
    "df_forecast = pd.read_csv(\"./data/forecast.csv\")\n",
    "df_meter = pd.read_csv(\"./data/meter.csv\")\n",
    "\n",
    "# I still need to consider edge cases and constraints !!!\n",
    "\n",
    "# combine all csv files\n",
    "df_combined = pd.merge(df_meter, df_rate, on='exit_zone')\n",
    "df_data = pd.merge(df_combined, df_forecast, on=['meter_id','date'], how='inner')\n",
    "\n",
    "# calculate the daily charge\n",
    "# The moment, I realize this negates past functions\n",
    "df_data['daily_charge'] = df_data['rate_p_per_kwh'] * df_data['kwh'] \n",
    "\n",
    "# calculate the total cost, forecast\n",
    "cost_total = df_data.groupby('meter_id')['daily_charge'].sum() * 0.01\n",
    "forecast_total = df_data.groupby('meter_id')['kwh'].sum()\n",
    "\n",
    "# create one table, need to reset the index as its registering meter_id as the index due to prev concat\n",
    "df_total = pd.merge(forecast_total, cost_total, on='meter_id').reset_index()\n",
    "\n",
    "# making it pretty now\n",
    "columns = {\n",
    "    'meter_id': 'Meter ID', \n",
    "    'kwh': 'Total Estimated Consumption (kWh)', \n",
    "    'daily_charge': 'Total Cost (£)'\n",
    "    }\n",
    "df_result = df_total.rename(columns=columns).to_string(index=False)\n",
    "\n",
    "# see the magic\n",
    "print(df_result)"
   ]
  },
  {
   "cell_type": "markdown",
   "id": "9ca564f7-f916-46c8-a90d-a2d453116bb9",
   "metadata": {},
   "source": [
    "Write a function that generates a list of random meters of any size. Examples of valid exit zones can be found in the rate table. You may randomly generate the annual quantity."
   ]
  },
  {
   "cell_type": "code",
   "execution_count": 20,
   "id": "eb3017d8-b4ff-4df6-986b-2da9af5a97ed",
   "metadata": {},
   "outputs": [
    {
     "data": {
      "text/html": [
       "<div>\n",
       "<style scoped>\n",
       "    .dataframe tbody tr th:only-of-type {\n",
       "        vertical-align: middle;\n",
       "    }\n",
       "\n",
       "    .dataframe tbody tr th {\n",
       "        vertical-align: top;\n",
       "    }\n",
       "\n",
       "    .dataframe thead th {\n",
       "        text-align: right;\n",
       "    }\n",
       "</style>\n",
       "<table border=\"1\" class=\"dataframe\">\n",
       "  <thead>\n",
       "    <tr style=\"text-align: right;\">\n",
       "      <th></th>\n",
       "      <th>meter_id</th>\n",
       "      <th>exit_zone</th>\n",
       "      <th>annual_quantity</th>\n",
       "    </tr>\n",
       "  </thead>\n",
       "  <tbody>\n",
       "    <tr>\n",
       "      <th>0</th>\n",
       "      <td>1223080</td>\n",
       "      <td>EA1</td>\n",
       "      <td>4770.855075</td>\n",
       "    </tr>\n",
       "    <tr>\n",
       "      <th>1</th>\n",
       "      <td>2147194</td>\n",
       "      <td>SO1</td>\n",
       "      <td>4300.476778</td>\n",
       "    </tr>\n",
       "    <tr>\n",
       "      <th>2</th>\n",
       "      <td>6093783</td>\n",
       "      <td>NT1</td>\n",
       "      <td>2929.171984</td>\n",
       "    </tr>\n",
       "    <tr>\n",
       "      <th>3</th>\n",
       "      <td>905181</td>\n",
       "      <td>NT1</td>\n",
       "      <td>544.552281</td>\n",
       "    </tr>\n",
       "    <tr>\n",
       "      <th>4</th>\n",
       "      <td>4045470</td>\n",
       "      <td>EA1</td>\n",
       "      <td>1402.572638</td>\n",
       "    </tr>\n",
       "    <tr>\n",
       "      <th>5</th>\n",
       "      <td>9541229</td>\n",
       "      <td>SO1</td>\n",
       "      <td>4029.497810</td>\n",
       "    </tr>\n",
       "    <tr>\n",
       "      <th>6</th>\n",
       "      <td>9300384</td>\n",
       "      <td>SO1</td>\n",
       "      <td>3650.121820</td>\n",
       "    </tr>\n",
       "    <tr>\n",
       "      <th>7</th>\n",
       "      <td>6275324</td>\n",
       "      <td>NT1</td>\n",
       "      <td>2294.263312</td>\n",
       "    </tr>\n",
       "    <tr>\n",
       "      <th>8</th>\n",
       "      <td>9588418</td>\n",
       "      <td>NT1</td>\n",
       "      <td>681.447413</td>\n",
       "    </tr>\n",
       "    <tr>\n",
       "      <th>9</th>\n",
       "      <td>630677</td>\n",
       "      <td>NT1</td>\n",
       "      <td>2395.864377</td>\n",
       "    </tr>\n",
       "  </tbody>\n",
       "</table>\n",
       "</div>"
      ],
      "text/plain": [
       "   meter_id exit_zone  annual_quantity\n",
       "0   1223080       EA1      4770.855075\n",
       "1   2147194       SO1      4300.476778\n",
       "2   6093783       NT1      2929.171984\n",
       "3    905181       NT1       544.552281\n",
       "4   4045470       EA1      1402.572638\n",
       "5   9541229       SO1      4029.497810\n",
       "6   9300384       SO1      3650.121820\n",
       "7   6275324       NT1      2294.263312\n",
       "8   9588418       NT1       681.447413\n",
       "9    630677       NT1      2395.864377"
      ]
     },
     "execution_count": 20,
     "metadata": {},
     "output_type": "execute_result"
    }
   ],
   "source": [
    "import numpy as np\n",
    "\n",
    "# Generate list of random meters of any size\n",
    "\"\"\"\n",
    "I - An integer specifying the number of random meters to generate.\n",
    "O - A dict containing meter, exit zone, aq \n",
    "C - input is non-negative, valid exit zones, aq is adjusted based on specific requirements.\n",
    "E - zero or negative, extreme values, valid exit zones, range, duplicate meter_ids\n",
    "\"\"\"\n",
    "\n",
    "def gen_meter_list(m, ez, min=0, max=5000):\n",
    "    id = np.random.randint(1,1e7, size=m) # generate random meters\n",
    "    exit_zones = np.random.choice(ez, size=m) # select random exit zones\n",
    "    aq = np.random.uniform(min,max, size=m)\n",
    "    \n",
    "    df_meters = pd.DataFrame({\n",
    "        'meter_id': id,\n",
    "        \"exit_zone\": exit_zones,\n",
    "        'annual_quantity': aq\n",
    "    })\n",
    "    return df_meters\n",
    "\n",
    "ez = df_data['exit_zone'].unique() # this is just to get only unique exit zones in existing data.\n",
    "\n",
    "gen_meter_list(10,ez)"
   ]
  },
  {
   "cell_type": "markdown",
   "id": "5fa76cdf-d02b-4888-873a-4c6871bc9127",
   "metadata": {},
   "source": [
    "Write a function that generates mock consumption data given a list of meters and a start date and duration (number of days in the forecast). The data may be completely random and it doesn't have to match with the meters' annual quantities either."
   ]
  },
  {
   "cell_type": "code",
   "execution_count": 65,
   "id": "7b1c6ce9-5071-47f9-ba5e-435243f878de",
   "metadata": {},
   "outputs": [
    {
     "name": "stdout",
     "output_type": "stream",
     "text": [
      "[ 911657 4167723 8625686 2180497 9082808 3932664 7970100 6097900 9582118\n",
      " 1715086] 300 300\n",
      "     meter_id       date          kwh\n",
      "0      911657 2024-01-01  3866.754500\n",
      "1      911657 2024-01-02   109.183014\n",
      "2      911657 2024-01-03  4195.311913\n",
      "3      911657 2024-01-04  4888.334508\n",
      "4      911657 2024-01-05  2131.522076\n",
      "..        ...        ...          ...\n",
      "295   1715086 2024-01-26  4800.992004\n",
      "296   1715086 2024-01-27  1939.701367\n",
      "297   1715086 2024-01-28  4395.142058\n",
      "298   1715086 2024-01-29  2759.023101\n",
      "299   1715086 2024-01-30  2749.087131\n",
      "\n",
      "[300 rows x 3 columns]\n"
     ]
    }
   ],
   "source": [
    "# Generate mock consumption data\n",
    "\"\"\"\n",
    "I - List of meters (DF,dict), start date(str), duration (num - # days in forecast)\n",
    "O - Consumption data (DF) - meter, date, kwh\n",
    "C - \n",
    "E - \n",
    "\"\"\"\n",
    "\n",
    "def gen_consumption_list(meter_list, start_date, periods):\n",
    "    # make sure start date is in the correct format using Panda Datetime stamp\n",
    "    if isinstance(start_date, str):\n",
    "        start_date = pd.Timestamp(start_date)\n",
    "    else:\n",
    "        raise TypeError(\"Start Date must be a string and a valid date YYYY-MM-DD format.\")\n",
    "\n",
    "    # generate forecast periods using duration by Day\n",
    "    dates = pd.date_range(start=start_date, periods=periods, freq='D')\n",
    "\n",
    "    # print(dates)\n",
    "\n",
    "    # get generated meter list (meter_id, dates, kwh)\n",
    "    meters = np.array([meter_list['meter_id']]).flatten()\n",
    "    dates = np.tile(dates, len(meters))\n",
    "    consumption = np.random.uniform(0,5000,size=(len(meter_list),periods)).flatten() # might need to consider what the aq_min and aq_max ranges are based on the date (?)\n",
    "    \n",
    "    # print(meters, len(dates), len(consumption))\n",
    "\n",
    "    # get consumption data\n",
    "    df_consumption = pd.DataFrame({\n",
    "        'meter_id': np.repeat(meters,periods),\n",
    "        'date': dates,\n",
    "        'kwh': consumption\n",
    "    })\n",
    "    \n",
    "    return df_consumption\n",
    "\n",
    "random_meter_list = gen_meter_list(10,ez)\n",
    "print(gen_consumption_list(random_meter_list, '2024-01-01', 30))\n",
    "    "
   ]
  },
  {
   "cell_type": "markdown",
   "id": "cd14a6e6-3b7d-4950-a9a5-617421cd9278",
   "metadata": {},
   "source": [
    "Write a function that takes as an input a meter list and a consumption forecast table and that calculates the transportation cost table (i.e., best take your logic from task 1 and wrap it in a function). Benchmark this function using meter lists of different sizes and consumption forecasts for periods of different lengths."
   ]
  },
  {
   "cell_type": "code",
   "execution_count": null,
   "id": "03a715d5-76af-4a45-af39-b4f23768e507",
   "metadata": {},
   "outputs": [],
   "source": [
    "# Function to calculate transportation cost table & Benchmark\n",
    "\"\"\"\n",
    "I - Meter list, consumption forecast table (dict)\n",
    "O - Transportation cost table \n",
    "C -\n",
    "E -\n",
    "\"\"\""
   ]
  },
  {
   "cell_type": "markdown",
   "id": "638c641c-cb3a-4a95-a8a3-8f6a91515207",
   "metadata": {},
   "source": [
    "* **How does this function scale for larger sets of data?**\n",
    "* **What are your observations after benchmarking?**\n",
    "* **Are there any steps in the cost calculation that can be improved?**\n",
    "* **How would you go about improving the performance of this calculation?**"
   ]
  },
  {
   "cell_type": "code",
   "execution_count": null,
   "id": "8d846de8-5d75-4616-8993-d8c72cb31d1c",
   "metadata": {},
   "outputs": [],
   "source": []
  }
 ],
 "metadata": {
  "kernelspec": {
   "display_name": "Python 3 (ipykernel)",
   "language": "python",
   "name": "python3"
  },
  "language_info": {
   "codemirror_mode": {
    "name": "ipython",
    "version": 3
   },
   "file_extension": ".py",
   "mimetype": "text/x-python",
   "name": "python",
   "nbconvert_exporter": "python",
   "pygments_lexer": "ipython3",
   "version": "3.12.4"
  }
 },
 "nbformat": 4,
 "nbformat_minor": 5
}
